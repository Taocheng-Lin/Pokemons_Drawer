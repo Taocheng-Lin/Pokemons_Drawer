{
 "cells": [
  {
   "cell_type": "markdown",
   "id": "6b004ad8",
   "metadata": {},
   "source": [
    "#  讀取【寶可夢】資料"
   ]
  },
  {
   "cell_type": "code",
   "execution_count": 1,
   "id": "e1be3f2f",
   "metadata": {},
   "outputs": [
    {
     "data": {
      "text/html": [
       "<div>\n",
       "<style scoped>\n",
       "    .dataframe tbody tr th:only-of-type {\n",
       "        vertical-align: middle;\n",
       "    }\n",
       "\n",
       "    .dataframe tbody tr th {\n",
       "        vertical-align: top;\n",
       "    }\n",
       "\n",
       "    .dataframe thead th {\n",
       "        text-align: right;\n",
       "    }\n",
       "</style>\n",
       "<table border=\"1\" class=\"dataframe\">\n",
       "  <thead>\n",
       "    <tr style=\"text-align: right;\">\n",
       "      <th></th>\n",
       "      <th>#</th>\n",
       "      <th>Name</th>\n",
       "      <th>Type 1</th>\n",
       "      <th>Type 2</th>\n",
       "      <th>Total</th>\n",
       "      <th>HP</th>\n",
       "      <th>Attack</th>\n",
       "      <th>Defense</th>\n",
       "      <th>Sp_Attack</th>\n",
       "      <th>Sp_Defense</th>\n",
       "      <th>Speed</th>\n",
       "    </tr>\n",
       "  </thead>\n",
       "  <tbody>\n",
       "    <tr>\n",
       "      <th>0</th>\n",
       "      <td>1</td>\n",
       "      <td>妙蛙種子</td>\n",
       "      <td>草</td>\n",
       "      <td>毒</td>\n",
       "      <td>318</td>\n",
       "      <td>45</td>\n",
       "      <td>49</td>\n",
       "      <td>49</td>\n",
       "      <td>65</td>\n",
       "      <td>65</td>\n",
       "      <td>45</td>\n",
       "    </tr>\n",
       "    <tr>\n",
       "      <th>1</th>\n",
       "      <td>2</td>\n",
       "      <td>妙蛙草</td>\n",
       "      <td>草</td>\n",
       "      <td>毒</td>\n",
       "      <td>405</td>\n",
       "      <td>60</td>\n",
       "      <td>62</td>\n",
       "      <td>63</td>\n",
       "      <td>80</td>\n",
       "      <td>80</td>\n",
       "      <td>60</td>\n",
       "    </tr>\n",
       "    <tr>\n",
       "      <th>2</th>\n",
       "      <td>3</td>\n",
       "      <td>妙蛙花</td>\n",
       "      <td>草</td>\n",
       "      <td>毒</td>\n",
       "      <td>525</td>\n",
       "      <td>80</td>\n",
       "      <td>82</td>\n",
       "      <td>83</td>\n",
       "      <td>100</td>\n",
       "      <td>100</td>\n",
       "      <td>80</td>\n",
       "    </tr>\n",
       "    <tr>\n",
       "      <th>3</th>\n",
       "      <td>4</td>\n",
       "      <td>小火龍</td>\n",
       "      <td>火</td>\n",
       "      <td>NaN</td>\n",
       "      <td>309</td>\n",
       "      <td>39</td>\n",
       "      <td>52</td>\n",
       "      <td>43</td>\n",
       "      <td>60</td>\n",
       "      <td>50</td>\n",
       "      <td>65</td>\n",
       "    </tr>\n",
       "    <tr>\n",
       "      <th>4</th>\n",
       "      <td>5</td>\n",
       "      <td>火恐龍</td>\n",
       "      <td>火</td>\n",
       "      <td>NaN</td>\n",
       "      <td>405</td>\n",
       "      <td>58</td>\n",
       "      <td>64</td>\n",
       "      <td>58</td>\n",
       "      <td>80</td>\n",
       "      <td>65</td>\n",
       "      <td>80</td>\n",
       "    </tr>\n",
       "    <tr>\n",
       "      <th>...</th>\n",
       "      <td>...</td>\n",
       "      <td>...</td>\n",
       "      <td>...</td>\n",
       "      <td>...</td>\n",
       "      <td>...</td>\n",
       "      <td>...</td>\n",
       "      <td>...</td>\n",
       "      <td>...</td>\n",
       "      <td>...</td>\n",
       "      <td>...</td>\n",
       "      <td>...</td>\n",
       "    </tr>\n",
       "    <tr>\n",
       "      <th>146</th>\n",
       "      <td>147</td>\n",
       "      <td>迷你龍</td>\n",
       "      <td>龍</td>\n",
       "      <td>NaN</td>\n",
       "      <td>300</td>\n",
       "      <td>41</td>\n",
       "      <td>64</td>\n",
       "      <td>45</td>\n",
       "      <td>50</td>\n",
       "      <td>50</td>\n",
       "      <td>50</td>\n",
       "    </tr>\n",
       "    <tr>\n",
       "      <th>147</th>\n",
       "      <td>148</td>\n",
       "      <td>哈克龍</td>\n",
       "      <td>龍</td>\n",
       "      <td>NaN</td>\n",
       "      <td>420</td>\n",
       "      <td>61</td>\n",
       "      <td>84</td>\n",
       "      <td>65</td>\n",
       "      <td>70</td>\n",
       "      <td>70</td>\n",
       "      <td>70</td>\n",
       "    </tr>\n",
       "    <tr>\n",
       "      <th>148</th>\n",
       "      <td>149</td>\n",
       "      <td>快龍</td>\n",
       "      <td>龍</td>\n",
       "      <td>飛行</td>\n",
       "      <td>600</td>\n",
       "      <td>91</td>\n",
       "      <td>134</td>\n",
       "      <td>95</td>\n",
       "      <td>100</td>\n",
       "      <td>100</td>\n",
       "      <td>80</td>\n",
       "    </tr>\n",
       "    <tr>\n",
       "      <th>149</th>\n",
       "      <td>150</td>\n",
       "      <td>超夢</td>\n",
       "      <td>超能力</td>\n",
       "      <td>NaN</td>\n",
       "      <td>680</td>\n",
       "      <td>106</td>\n",
       "      <td>110</td>\n",
       "      <td>90</td>\n",
       "      <td>154</td>\n",
       "      <td>90</td>\n",
       "      <td>130</td>\n",
       "    </tr>\n",
       "    <tr>\n",
       "      <th>150</th>\n",
       "      <td>151</td>\n",
       "      <td>夢幻</td>\n",
       "      <td>超能力</td>\n",
       "      <td>NaN</td>\n",
       "      <td>600</td>\n",
       "      <td>100</td>\n",
       "      <td>100</td>\n",
       "      <td>100</td>\n",
       "      <td>100</td>\n",
       "      <td>100</td>\n",
       "      <td>100</td>\n",
       "    </tr>\n",
       "  </tbody>\n",
       "</table>\n",
       "<p>151 rows × 11 columns</p>\n",
       "</div>"
      ],
      "text/plain": [
       "       #  Name Type 1 Type 2  Total   HP  Attack  Defense  Sp_Attack  \\\n",
       "0      1  妙蛙種子      草      毒    318   45      49       49         65   \n",
       "1      2   妙蛙草      草      毒    405   60      62       63         80   \n",
       "2      3   妙蛙花      草      毒    525   80      82       83        100   \n",
       "3      4   小火龍      火    NaN    309   39      52       43         60   \n",
       "4      5   火恐龍      火    NaN    405   58      64       58         80   \n",
       "..   ...   ...    ...    ...    ...  ...     ...      ...        ...   \n",
       "146  147   迷你龍      龍    NaN    300   41      64       45         50   \n",
       "147  148   哈克龍      龍    NaN    420   61      84       65         70   \n",
       "148  149    快龍      龍     飛行    600   91     134       95        100   \n",
       "149  150    超夢    超能力    NaN    680  106     110       90        154   \n",
       "150  151    夢幻    超能力    NaN    600  100     100      100        100   \n",
       "\n",
       "     Sp_Defense  Speed  \n",
       "0            65     45  \n",
       "1            80     60  \n",
       "2           100     80  \n",
       "3            50     65  \n",
       "4            65     80  \n",
       "..          ...    ...  \n",
       "146          50     50  \n",
       "147          70     70  \n",
       "148         100     80  \n",
       "149          90    130  \n",
       "150         100    100  \n",
       "\n",
       "[151 rows x 11 columns]"
      ]
     },
     "execution_count": 1,
     "metadata": {},
     "output_type": "execute_result"
    }
   ],
   "source": [
    "import pandas as pd\n",
    "data=pd.read_csv('pokemon.csv',encoding='big5')\n",
    "\n",
    "data"
   ]
  },
  {
   "cell_type": "markdown",
   "id": "d8204416",
   "metadata": {},
   "source": [
    "#  依屬性抽出隨機寶可夢"
   ]
  },
  {
   "cell_type": "code",
   "execution_count": 2,
   "id": "2c98c53d",
   "metadata": {},
   "outputs": [
    {
     "data": {
      "text/plain": [
       "'卡蒂狗'"
      ]
     },
     "execution_count": 2,
     "metadata": {},
     "output_type": "execute_result"
    }
   ],
   "source": [
    "import random\n",
    "\n",
    "def pick_pokemon(Type='火'):\n",
    "    data_select=data[(data['Type 1']==Type)|(data['Type 2']==Type)].reset_index(drop=True)\n",
    "    return random.choice(data_select['Name'])\n",
    "\n",
    "pick_pokemon()"
   ]
  },
  {
   "cell_type": "markdown",
   "id": "5ee27b0e",
   "metadata": {},
   "source": [
    "#  隨機抽出一隻高於指定【攻擊】和【防禦】的寶可夢"
   ]
  },
  {
   "cell_type": "code",
   "execution_count": 3,
   "id": "6e041db7",
   "metadata": {},
   "outputs": [
    {
     "data": {
      "text/html": [
       "<div>\n",
       "<style scoped>\n",
       "    .dataframe tbody tr th:only-of-type {\n",
       "        vertical-align: middle;\n",
       "    }\n",
       "\n",
       "    .dataframe tbody tr th {\n",
       "        vertical-align: top;\n",
       "    }\n",
       "\n",
       "    .dataframe thead th {\n",
       "        text-align: right;\n",
       "    }\n",
       "</style>\n",
       "<table border=\"1\" class=\"dataframe\">\n",
       "  <thead>\n",
       "    <tr style=\"text-align: right;\">\n",
       "      <th></th>\n",
       "      <th>#</th>\n",
       "      <th>Name</th>\n",
       "      <th>Type 1</th>\n",
       "      <th>Type 2</th>\n",
       "      <th>Total</th>\n",
       "      <th>HP</th>\n",
       "      <th>Attack</th>\n",
       "      <th>Defense</th>\n",
       "      <th>Sp_Attack</th>\n",
       "      <th>Sp_Defense</th>\n",
       "      <th>Speed</th>\n",
       "    </tr>\n",
       "  </thead>\n",
       "  <tbody>\n",
       "    <tr>\n",
       "      <th>0</th>\n",
       "      <td>76</td>\n",
       "      <td>隆隆岩</td>\n",
       "      <td>岩石</td>\n",
       "      <td>地面</td>\n",
       "      <td>495</td>\n",
       "      <td>80</td>\n",
       "      <td>120</td>\n",
       "      <td>130</td>\n",
       "      <td>55</td>\n",
       "      <td>65</td>\n",
       "      <td>45</td>\n",
       "    </tr>\n",
       "  </tbody>\n",
       "</table>\n",
       "</div>"
      ],
      "text/plain": [
       "    # Name Type 1 Type 2  Total  HP  Attack  Defense  Sp_Attack  Sp_Defense  \\\n",
       "0  76  隆隆岩     岩石     地面    495  80     120      130         55          65   \n",
       "\n",
       "   Speed  \n",
       "0     45  "
      ]
     },
     "execution_count": 3,
     "metadata": {},
     "output_type": "execute_result"
    }
   ],
   "source": [
    "def pick_pokemon_AD(Attack,Defense):\n",
    "    data_select=data[(data['Attack']>Attack)&(data['Defense']>Defense)].reset_index(drop=True)\n",
    "    pokemon=random.choice(data_select['Name'])\n",
    "    return data_select[data_select['Name']==pokemon]\n",
    "\n",
    "pick_pokemon_AD(110,120)"
   ]
  },
  {
   "cell_type": "markdown",
   "id": "6bd3f361",
   "metadata": {},
   "source": [
    "#   一次抽多隻特定屬性寶可夢   "
   ]
  },
  {
   "cell_type": "code",
   "execution_count": 4,
   "id": "f999a275",
   "metadata": {},
   "outputs": [
    {
     "data": {
      "text/plain": [
       "['卡蒂狗', '蚊香蝌蚪', '口呆花', '快龍', '大嘴雀']"
      ]
     },
     "execution_count": 4,
     "metadata": {},
     "output_type": "execute_result"
    }
   ],
   "source": [
    "def pick_pokemon_mult(*types):\n",
    "    pokemon=[]\n",
    "    for Type in types:\n",
    "        data_select=data[(data['Type 1']==Type)|(data['Type 2']==Type)].reset_index(drop=True) \n",
    "        pokemon.append(random.choice(data_select['Name']))\n",
    "    return pokemon\n",
    "\n",
    "pick_pokemon_mult('火','水','草','龍','飛行')"
   ]
  },
  {
   "cell_type": "markdown",
   "id": "95c6b72c",
   "metadata": {},
   "source": [
    "#  抽出一隻高於指定【數值】的寶可夢"
   ]
  },
  {
   "cell_type": "code",
   "execution_count": 5,
   "id": "0d9fc4ae",
   "metadata": {},
   "outputs": [
    {
     "data": {
      "text/plain": [
       "'尼多王'"
      ]
     },
     "execution_count": 5,
     "metadata": {},
     "output_type": "execute_result"
    }
   ],
   "source": [
    "def pick_pokemon_all(**chracteristics):\n",
    "    data_select=data.copy()\n",
    "    for key,value in chracteristics.items():\n",
    "        data_select=data_select[data_select[key]>value].reset_index(drop=True)\n",
    "    return random.choice(data_select['Name'])\n",
    "\n",
    "pick_pokemon_all(HP=50,Attack=30,Sp_Defense=60)"
   ]
  }
 ],
 "metadata": {
  "kernelspec": {
   "display_name": "Python 3 (ipykernel)",
   "language": "python",
   "name": "python3"
  },
  "language_info": {
   "codemirror_mode": {
    "name": "ipython",
    "version": 3
   },
   "file_extension": ".py",
   "mimetype": "text/x-python",
   "name": "python",
   "nbconvert_exporter": "python",
   "pygments_lexer": "ipython3",
   "version": "3.10.2"
  }
 },
 "nbformat": 4,
 "nbformat_minor": 5
}
